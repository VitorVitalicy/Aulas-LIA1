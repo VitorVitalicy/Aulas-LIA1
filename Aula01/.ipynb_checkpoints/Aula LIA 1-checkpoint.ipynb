{
 "cells": [
  {
   "cell_type": "markdown",
   "id": "6d9b5d78",
   "metadata": {},
   "source": [
    "<hr style=\"height:10px\"> \n",
    " \n",
    "<div class='container2'>\n",
    "\t\t<div>\n",
    "\t\t\t<img src='Capa_Aula_01.png' ALIGN='left' style='width:10em'>\n",
    "\t\t</div>\t\n",
    "\t<div style='padding: 0 7em 2em 12em;'>\n",
    "\t<h1>Laboratório de Inovação e Automação 1 (LIA 1)</h1>\n",
    "\t<div style=\"font-size:12pt;float:left;\"> 2023/1 | 46M34 | Sala 200 CAE</div><br><br>\n",
    "    <div style=\"font-size:12pt;float:left;\"><b>Projetos de Inteligência Artificial</b></div>\n",
    "\t</div>\n",
    "</div>\n",
    "\n",
    "\n",
    " <hr style=\"height:5px\"> \n",
    "\n",
    "    \n",
    "<h2>Introdução ao Ambiente de Projetos</h2>\n",
    "\n",
    "Notebook desenvolvido por: <a href=\"#\">Vitor Antônio</a>\n",
    "\n",
    " <hr style=\"height:2px\"> "
   ]
  },
  {
   "cell_type": "code",
   "execution_count": 3,
   "id": "12ec44c6",
   "metadata": {},
   "outputs": [
    {
     "name": "stdout",
     "output_type": "stream",
     "text": [
      " Versão:3.9.13\n"
     ]
    }
   ],
   "source": [
    "# CONFIRMAR A VERSÃO DO PYTHON INSTALADA\n",
    "from platform import python_version\n",
    "print(f' Versão:{python_version()}')"
   ]
  },
  {
   "cell_type": "code",
   "execution_count": 1,
   "id": "6b6671fd",
   "metadata": {},
   "outputs": [
    {
     "name": "stdout",
     "output_type": "stream",
     "text": [
      "Hello World!\n",
      "Reza a lenda que: O programador que não iniciar seu projeto com \u001b[34mHello World\u001b[m não terá sucesso :(\n"
     ]
    }
   ],
   "source": [
    "# VERIFICAR SE O PYTHON FUNCIONA:\n",
    "print('Hello World!')\n",
    "print('Reza a lenda que: O programador que não iniciar seu projeto com \\33[34mHello World\\33[m não terá sucesso :(')"
   ]
  },
  {
   "cell_type": "markdown",
   "id": "3c68052f",
   "metadata": {},
   "source": [
    "<h1>FUNÇÕES ARITMÉTICAS<h1>"
   ]
  },
  {
   "cell_type": "code",
   "execution_count": 12,
   "id": "c46926cb",
   "metadata": {},
   "outputs": [
    {
     "name": "stdout",
     "output_type": "stream",
     "text": [
      " Soma:11\n",
      "Subtração: -7\n",
      "Multiplicação: 18\n",
      " Divisão: 0.2222222222222222\n",
      "Potência: 512\n",
      "Raiz: 1.4142135623730951\n",
      "Resto da divisão: 1\n"
     ]
    }
   ],
   "source": [
    "#SOMA E SUBTRAÇÃO\n",
    "x = 2\n",
    "y = 9\n",
    "print(f' Soma:{x+y}')\n",
    "print(f'Subtração: {x-y}')\n",
    "\n",
    "\n",
    "#MULTIPLICAÇÃO E DIVISÃO:\n",
    "print(f'Multiplicação: {x*y}')\n",
    "print(f'Divisão: {x/y}')\n",
    "\n",
    "# POTENCIAÇÃO E RAIZ:\n",
    "print(f'Potência: {x**y}')\n",
    "print(f'Raiz: {x**(1/2)}')\n",
    "\n",
    "# RESTO DA DIVISÃO:\n",
    "print(f'Resto da divisão: {y%x}')\n"
   ]
  },
  {
   "cell_type": "markdown",
   "id": "e586f9fa",
   "metadata": {},
   "source": [
    "<h1>TIPOS DE DADOS<h1>"
   ]
  },
  {
   "cell_type": "code",
   "execution_count": null,
   "id": "f9647916",
   "metadata": {},
   "outputs": [],
   "source": [
    "# STRING:\n",
    "x = 'Hello'\n",
    "# ou com aspas duplas\n",
    "y = \"Hello\"\n",
    "\n",
    "# INTEGER:\n",
    "x = 7\n",
    "\n",
    "# FLOAT:\n",
    "x = 7.0\n",
    "\n",
    "#BOOLEAN\n",
    "x "
   ]
  },
  {
   "cell_type": "markdown",
   "id": "33c262a5",
   "metadata": {},
   "source": [
    "<h1>Conditional if<h1>"
   ]
  },
  {
   "cell_type": "code",
   "execution_count": 17,
   "id": "a9cbad63",
   "metadata": {},
   "outputs": [
    {
     "name": "stdout",
     "output_type": "stream",
     "text": [
      "Sentença verdadeira.\n",
      "Bora tomar uma...\n"
     ]
    }
   ],
   "source": [
    "# IF e ELSE:\n",
    "if 9>0:\n",
    "    print('Sentença verdadeira.')\n",
    "else:\n",
    "    print('Sentênça falsa.')\n",
    "    \n",
    "# COM VARIÁVEL\n",
    "# USO DA TERCEIRA HIPÓTESE >> ELIF:\n",
    "dia = 'Sexta-feira.'\n",
    "if dia == 'Sexta-feira.':\n",
    "    print('Bora tomar uma...')\n",
    "elif dia == 'Sábado':\n",
    "    print('Já tomei uma.')\n",
    "else:\n",
    "    print('Hoje fará sol!')"
   ]
  },
  {
   "cell_type": "markdown",
   "id": "ef1d7e15",
   "metadata": {},
   "source": [
    "<h1>LENDO ARQUIVOS<h1>"
   ]
  },
  {
   "cell_type": "code",
   "execution_count": 19,
   "id": "87d4e417",
   "metadata": {},
   "outputs": [
    {
     "name": "stdout",
     "output_type": "stream",
     "text": [
      "OlÃ¡ meu nome Ã© Vitor AntÃ´nio.\n"
     ]
    }
   ],
   "source": [
    "#ABRINDO ARQUIVO DE LEITURA:\n",
    "file = open('ArquivoTeste.txt', 'r')\n",
    "\n",
    "# LENDO O ARQUIVO:\n",
    "print(file.read())\n",
    "\n",
    "file.close()"
   ]
  },
  {
   "cell_type": "markdown",
   "id": "6c79461f",
   "metadata": {},
   "source": [
    "<h1>GRAVANDO ARQUIRVOS<h1>"
   ]
  },
  {
   "cell_type": "code",
   "execution_count": 20,
   "id": "9cd02a77",
   "metadata": {},
   "outputs": [
    {
     "name": "stdout",
     "output_type": "stream",
     "text": [
      "Aprendendo Python!\n"
     ]
    }
   ],
   "source": [
    "#ABRINDO O ARQUIVO PARA LEITURA:\n",
    "file = open('ArquivoTeste.txt', 'w')\n",
    "\n",
    "# GRAVANDO ARQUIVO:\n",
    "file.write('Aprendendo Python!')\n",
    "\n",
    "#ABRINDO O ARQUIVO PARA LEITURA:\n",
    "file = open('ArquivoTeste.txt', 'r')\n",
    "\n",
    "# LEITURA DO ARQUIVO:\n",
    "print(file.read())"
   ]
  }
 ],
 "metadata": {
  "kernelspec": {
   "display_name": "Python 3 (ipykernel)",
   "language": "python",
   "name": "python3"
  },
  "language_info": {
   "codemirror_mode": {
    "name": "ipython",
    "version": 3
   },
   "file_extension": ".py",
   "mimetype": "text/x-python",
   "name": "python",
   "nbconvert_exporter": "python",
   "pygments_lexer": "ipython3",
   "version": "3.9.13"
  }
 },
 "nbformat": 4,
 "nbformat_minor": 5
}
